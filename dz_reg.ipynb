{
 "cells": [
  {
   "cell_type": "code",
   "execution_count": null,
   "metadata": {},
   "outputs": [],
   "source": [
    "import re"
   ]
  },
  {
   "cell_type": "markdown",
   "metadata": {},
   "source": [
    "Задание 1.\n",
    "Напишите функцию, которая принимает на вход строку и проверяет является ли она валидным транспортным номером. Если да, то функция должна возвращать отдельно номер и регион."
   ]
  },
  {
   "cell_type": "code",
   "execution_count": null,
   "metadata": {},
   "outputs": [],
   "source": [
    "\n",
    "def valid_carnumber():\n",
    "    carnumber = str(input('Введите номер автомобия: '))\n",
    "    if len(carnumber) == 8 or 9:\n",
    "        ask_number = re.findall(r'([АВЕКМНОРСТУХ]{1})(\\d{3})([АВЕКМНОРСТУХ]{2})(\\d{2,3})', carnumber)\n",
    "       # print(ask_number)\n",
    "        if ask_number == []:\n",
    "            print('Невалидный транспортный номер')\n",
    "        else:\n",
    "            print('Транспортный номер: ', carnumber, 'Номер региона:', ask_number[0][3], sep='\\n')\n",
    "    else:\n",
    "        print('Невалидный транспортный номер')\n",
    "\n",
    "valid_carnumber()      \n",
    "    \n",
    "    "
   ]
  },
  {
   "cell_type": "markdown",
   "metadata": {},
   "source": [
    "Задание 2.\n",
    "Постарайтесь написать (в крайнем случае найти) самый полный шаблон для проверки e-mail адресов через регулярное выражение, которая проверяет e-mail адрес на валидность. Можно руководствоваться следующими минимальными требованиями:\n",
    "    \n",
    "• адрес должен содержать специальный символ “@”, который отделяет имя пользователя почтовой системы от доменного имени;\n",
    "\n",
    "• адрес не должен содержать следующие символы: “пробел”, “,”, “:”, “;”, “!”, “#”, “%”, “*”, “(”, “)”, “=”, “+”, “{”, “}”, \" \" \", \" ’ \", \" / \", \" \\ \" и “|”;\n",
    "        \n",
    "• адрес должен состоять только из латинских символов;\n",
    "\n",
    "• после символа “@” должна быть как минимум одна “.”;\n",
    "\n",
    "• после последней точки должно быть не менее 2-х и не более 4-х символов, причем наличие цифр не допускается;\n",
    "\n",
    "• между последней точкой и символом “@” должно быть не менее 2-х символов\n",
    "\n",
    "• слева от “@” должно быть не менее четырех символов\n"
   ]
  },
  {
   "cell_type": "code",
   "execution_count": null,
   "metadata": {},
   "outputs": [],
   "source": [
    "email = str(input('Введите email: '))\n",
    "\n",
    "ask_email = re.findall(r'([a-z0-9_\\.]{4,256})@([a-z\\.]{2,256})\\.([a-z]{2,4}$)', email)\n",
    "if ask_email == []:\n",
    "    print('Невалидный email')\n",
    "else:\n",
    "    print('Ok')"
   ]
  },
  {
   "cell_type": "markdown",
   "metadata": {},
   "source": [
    "Задание 3.\n",
    "Напишите функцию, которая будет удалять все последовательные повторы слов из заданной строки при помощи регулярных выражений."
   ]
  },
  {
   "cell_type": "code",
   "execution_count": null,
   "metadata": {},
   "outputs": [],
   "source": [
    "def del_repeat():\n",
    "    test_t = str(input('Введите строку: '))\n",
    "    newtest = re.sub(r'(\\w+)\\s\\1\\b', r'\\1', test_t)\n",
    "    print(newtest)\n",
    "\n",
    "del_repeat()  \n",
    "\n"
   ]
  },
  {
   "cell_type": "markdown",
   "metadata": {},
   "source": [
    "Задание 4.\n",
    "Напишите функцию, которая будет проверять номер сотового телефона на валидность, если он валиден, то переводить его в формат:\n",
    "+7(xxx)-xxx-xx-xx\n",
    "​\n",
    "Постарайтесь предусмотреть как можно больше адекватных форматов изначального ввода номера. Примеры валидных форматов:\n",
    "​\n",
    "• +7 955 555-55-55;\n",
    "• 9555555555;\n",
    "• 8(955)555-55-55;\n",
    "• +7 955 555 55 55;\n",
    "• 7(955) 555-55-55;\n",
    "• +7 955+555+55+55."
   ]
  },
  {
   "cell_type": "code",
   "execution_count": null,
   "metadata": {},
   "outputs": [],
   "source": [
    "def valid_tel():\n",
    "    tel = str(input('Введите номер телефона: '))  \n",
    "    fig_list = re.findall(r'\\d', tel)\n",
    "    if len(fig_list) == 10:\n",
    "        newtest = re.sub(r'(\\d{3})[-+\\(\\)\\s]?(\\d{3})[-+\\(\\)\\s]?(\\d{2})[-+\\(\\)\\s]?(\\d{2})', r'+7(\\1)-\\2-\\3-\\4' ,tel)\n",
    "        print(newtest)\n",
    "    elif ((len(fig_list) == 11) and (fig_list[0] == '8' or fig_list[0] == '7')):\n",
    "        newtest = re.sub(r'(\\d{1})[\\+\\-\\(\\)\\s]?(\\d{3})[\\+\\-\\(\\)\\s]?(\\d{3})[\\+\\-\\(\\)\\s]?(\\d{2})[\\+\\-\\(\\)\\s]?(\\d{2})', r'+7(\\2)-\\3-\\4-\\5' ,tel)\n",
    "        print(newtest)\n",
    "    else:\n",
    "        print('Ошибка ввода')\n",
    "    \n",
    "valid_tel()\n"
   ]
  },
  {
   "cell_type": "code",
   "execution_count": null,
   "metadata": {},
   "outputs": [],
   "source": []
  }
 ],
 "metadata": {
  "kernelspec": {
   "display_name": "Python 3",
   "language": "python",
   "name": "python3"
  },
  "language_info": {
   "codemirror_mode": {
    "name": "ipython",
    "version": 3
   },
   "file_extension": ".py",
   "mimetype": "text/x-python",
   "name": "python",
   "nbconvert_exporter": "python",
   "pygments_lexer": "ipython3",
   "version": "3.7.6"
  }
 },
 "nbformat": 4,
 "nbformat_minor": 4
}
